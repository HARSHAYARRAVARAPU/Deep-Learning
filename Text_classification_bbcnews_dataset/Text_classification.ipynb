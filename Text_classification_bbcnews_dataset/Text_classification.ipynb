{
 "cells": [
  {
   "cell_type": "code",
   "execution_count": 91,
   "metadata": {},
   "outputs": [],
   "source": [
    "from sklearn import model_selection, preprocessing, linear_model, naive_bayes, metrics, svm\n",
    "from sklearn.feature_extraction.text import TfidfVectorizer, CountVectorizer\n",
    "from sklearn import decomposition, ensemble\n",
    "\n",
    "import os\n",
    "import matplotlib.pyplot as plt\n",
    "%matplotlib inline\n",
    "import pandas as pd, xgboost, numpy as np, textblob, string\n",
    "from keras.preprocessing import text, sequence\n",
    "from keras import layers, models, optimizers"
   ]
  },
  {
   "cell_type": "code",
   "execution_count": 92,
   "metadata": {},
   "outputs": [],
   "source": [
    "df = pd.read_csv(r\"D:\\deep_learning\\CNN\\bbc-text.csv\\bbc-text.csv\")"
   ]
  },
  {
   "cell_type": "code",
   "execution_count": 93,
   "metadata": {},
   "outputs": [
    {
     "data": {
      "text/html": [
       "<div>\n",
       "<style>\n",
       "    .dataframe thead tr:only-child th {\n",
       "        text-align: right;\n",
       "    }\n",
       "\n",
       "    .dataframe thead th {\n",
       "        text-align: left;\n",
       "    }\n",
       "\n",
       "    .dataframe tbody tr th {\n",
       "        vertical-align: top;\n",
       "    }\n",
       "</style>\n",
       "<table border=\"1\" class=\"dataframe\">\n",
       "  <thead>\n",
       "    <tr style=\"text-align: right;\">\n",
       "      <th></th>\n",
       "      <th>category</th>\n",
       "      <th>text</th>\n",
       "    </tr>\n",
       "  </thead>\n",
       "  <tbody>\n",
       "    <tr>\n",
       "      <th>0</th>\n",
       "      <td>tech</td>\n",
       "      <td>tv future in the hands of viewers with home th...</td>\n",
       "    </tr>\n",
       "    <tr>\n",
       "      <th>1</th>\n",
       "      <td>business</td>\n",
       "      <td>worldcom boss  left books alone  former worldc...</td>\n",
       "    </tr>\n",
       "    <tr>\n",
       "      <th>2</th>\n",
       "      <td>sport</td>\n",
       "      <td>tigers wary of farrell  gamble  leicester say ...</td>\n",
       "    </tr>\n",
       "    <tr>\n",
       "      <th>3</th>\n",
       "      <td>sport</td>\n",
       "      <td>yeading face newcastle in fa cup premiership s...</td>\n",
       "    </tr>\n",
       "    <tr>\n",
       "      <th>4</th>\n",
       "      <td>entertainment</td>\n",
       "      <td>ocean s twelve raids box office ocean s twelve...</td>\n",
       "    </tr>\n",
       "  </tbody>\n",
       "</table>\n",
       "</div>"
      ],
      "text/plain": [
       "        category                                               text\n",
       "0           tech  tv future in the hands of viewers with home th...\n",
       "1       business  worldcom boss  left books alone  former worldc...\n",
       "2          sport  tigers wary of farrell  gamble  leicester say ...\n",
       "3          sport  yeading face newcastle in fa cup premiership s...\n",
       "4  entertainment  ocean s twelve raids box office ocean s twelve..."
      ]
     },
     "execution_count": 93,
     "metadata": {},
     "output_type": "execute_result"
    }
   ],
   "source": [
    "df.head()"
   ]
  },
  {
   "cell_type": "code",
   "execution_count": 94,
   "metadata": {},
   "outputs": [
    {
     "data": {
      "text/plain": [
       "(2225,)"
      ]
     },
     "execution_count": 94,
     "metadata": {},
     "output_type": "execute_result"
    }
   ],
   "source": [
    "df['category_id'] = df['category'].factorize()[0]\n",
    "df['category_id'].shape"
   ]
  },
  {
   "cell_type": "code",
   "execution_count": 95,
   "metadata": {},
   "outputs": [],
   "source": [
    "category_id_df = df[['category', 'category_id']].drop_duplicates().sort_values('category_id')"
   ]
  },
  {
   "cell_type": "code",
   "execution_count": 96,
   "metadata": {},
   "outputs": [
    {
     "data": {
      "text/html": [
       "<div>\n",
       "<style>\n",
       "    .dataframe thead tr:only-child th {\n",
       "        text-align: right;\n",
       "    }\n",
       "\n",
       "    .dataframe thead th {\n",
       "        text-align: left;\n",
       "    }\n",
       "\n",
       "    .dataframe tbody tr th {\n",
       "        vertical-align: top;\n",
       "    }\n",
       "</style>\n",
       "<table border=\"1\" class=\"dataframe\">\n",
       "  <thead>\n",
       "    <tr style=\"text-align: right;\">\n",
       "      <th></th>\n",
       "      <th>category</th>\n",
       "      <th>category_id</th>\n",
       "    </tr>\n",
       "  </thead>\n",
       "  <tbody>\n",
       "    <tr>\n",
       "      <th>0</th>\n",
       "      <td>tech</td>\n",
       "      <td>0</td>\n",
       "    </tr>\n",
       "    <tr>\n",
       "      <th>1</th>\n",
       "      <td>business</td>\n",
       "      <td>1</td>\n",
       "    </tr>\n",
       "    <tr>\n",
       "      <th>2</th>\n",
       "      <td>sport</td>\n",
       "      <td>2</td>\n",
       "    </tr>\n",
       "    <tr>\n",
       "      <th>4</th>\n",
       "      <td>entertainment</td>\n",
       "      <td>3</td>\n",
       "    </tr>\n",
       "    <tr>\n",
       "      <th>5</th>\n",
       "      <td>politics</td>\n",
       "      <td>4</td>\n",
       "    </tr>\n",
       "  </tbody>\n",
       "</table>\n",
       "</div>"
      ],
      "text/plain": [
       "        category  category_id\n",
       "0           tech            0\n",
       "1       business            1\n",
       "2          sport            2\n",
       "4  entertainment            3\n",
       "5       politics            4"
      ]
     },
     "execution_count": 96,
     "metadata": {},
     "output_type": "execute_result"
    }
   ],
   "source": [
    "category_id_df"
   ]
  },
  {
   "cell_type": "code",
   "execution_count": 97,
   "metadata": {},
   "outputs": [],
   "source": [
    "category_to_id = dict(category_id_df.values)\n",
    "id_to_category = dict(category_id_df[['category_id', 'category']].values)"
   ]
  },
  {
   "cell_type": "code",
   "execution_count": 98,
   "metadata": {},
   "outputs": [
    {
     "data": {
      "text/plain": [
       "category\n",
       "business         510\n",
       "entertainment    386\n",
       "politics         417\n",
       "sport            511\n",
       "tech             401\n",
       "Name: category_id, dtype: int64"
      ]
     },
     "execution_count": 98,
     "metadata": {},
     "output_type": "execute_result"
    }
   ],
   "source": [
    "df.groupby('category').category_id.count()\n"
   ]
  },
  {
   "cell_type": "code",
   "execution_count": 99,
   "metadata": {},
   "outputs": [],
   "source": [
    "tfidf = TfidfVectorizer(sublinear_tf =True, min_df =5, norm ='l2',encoding ='latin-1'\n",
    "                       ,ngram_range =(1,2), stop_words ='english')"
   ]
  },
  {
   "cell_type": "code",
   "execution_count": 100,
   "metadata": {},
   "outputs": [],
   "source": [
    "features = tfidf.fit_transform(df.text).toarray()\n",
    "labels = df.category_id"
   ]
  },
  {
   "cell_type": "code",
   "execution_count": 101,
   "metadata": {},
   "outputs": [
    {
     "name": "stdout",
     "output_type": "stream",
     "text": [
      "(2225, 14415)\n",
      "(2225,)\n"
     ]
    }
   ],
   "source": [
    "print(features.shape)\n",
    "print(labels.shape)"
   ]
  },
  {
   "cell_type": "code",
   "execution_count": 102,
   "metadata": {},
   "outputs": [
    {
     "data": {
      "text/plain": [
       "[('business', 1),\n",
       " ('entertainment', 3),\n",
       " ('politics', 4),\n",
       " ('sport', 2),\n",
       " ('tech', 0)]"
      ]
     },
     "execution_count": 102,
     "metadata": {},
     "output_type": "execute_result"
    }
   ],
   "source": [
    "sorted(category_to_id.items())"
   ]
  },
  {
   "cell_type": "code",
   "execution_count": 109,
   "metadata": {},
   "outputs": [
    {
     "name": "stdout",
     "output_type": "stream",
     "text": [
      "'# 'business' :\n",
      "  . Most correlated unigrams:\n",
      "       . oil\n",
      "       . growth\n",
      "       . shares\n",
      "  . Most correlated bigrams:\n",
      "       . analysts said\n",
      "       . economic growth\n",
      "       . stock market\n",
      "'# 'entertainment' :\n",
      "  . Most correlated unigrams:\n",
      "       . singer\n",
      "       . actor\n",
      "       . film\n",
      "  . Most correlated bigrams:\n",
      "       . los angeles\n",
      "       . film festival\n",
      "       . box office\n",
      "'# 'politics' :\n",
      "  . Most correlated unigrams:\n",
      "       . blair\n",
      "       . election\n",
      "       . labour\n",
      "  . Most correlated bigrams:\n",
      "       . prime minister\n",
      "       . tony blair\n",
      "       . mr blair\n",
      "'# 'sport' :\n",
      "  . Most correlated unigrams:\n",
      "       . coach\n",
      "       . match\n",
      "       . cup\n",
      "  . Most correlated bigrams:\n",
      "       . grand slam\n",
      "       . australian open\n",
      "       . champions league\n",
      "'# 'tech' :\n",
      "  . Most correlated unigrams:\n",
      "       . technology\n",
      "       . software\n",
      "       . users\n",
      "  . Most correlated bigrams:\n",
      "       . anti virus\n",
      "       . mobile phones\n",
      "       . mobile phone\n"
     ]
    }
   ],
   "source": [
    "#use chi square analysis to find the corelation between\n",
    "#features (importance of words) and labels(categories)\n",
    "from sklearn.feature_selection import chi2\n",
    "\n",
    "N=3 #We are going to look for top 3 categories\n",
    "#For each category, find words that are highly corelated to it\n",
    "for category, category_id in sorted(category_to_id.items()):\n",
    "    features_chi2 = chi2(features, labels==category_id)\n",
    "    indices = np.argsort(features_chi2[0])\n",
    "    feature_names = np.array(tfidf.get_feature_names())[indices]\n",
    "    unigrams = [v for v in feature_names if len(v.split(' ')) == 1]\n",
    "    bigrams = [v for v in feature_names if len(v.split(' ')) == 2]\n",
    "    \n",
    "    print(\"'# '{}' :\".format(category))\n",
    "    print(\"  . Most correlated unigrams:\\n       . {}\".format('\\n       . '.join(unigrams[-N:])))\n",
    "    print(\"  . Most correlated bigrams:\\n       . {}\".format('\\n       . '.join(bigrams[-N:])))\n",
    "    "
   ]
  },
  {
   "cell_type": "code",
   "execution_count": 110,
   "metadata": {},
   "outputs": [
    {
     "data": {
      "text/plain": [
       "(array([0.00355164, 0.29252643, 0.67297617, ..., 0.02810703, 0.13112208,\n",
       "        0.17836794]),\n",
       " array([0.95247768, 0.58860607, 0.4120159 , ..., 0.86685744, 0.71727145,\n",
       "        0.67277957]))"
      ]
     },
     "execution_count": 110,
     "metadata": {},
     "output_type": "execute_result"
    }
   ],
   "source": [
    "features_chi2"
   ]
  },
  {
   "cell_type": "code",
   "execution_count": 113,
   "metadata": {},
   "outputs": [],
   "source": [
    "from sklearn.manifold import TSNE\n",
    "SAMPLE_SIZE = int(len(features)*0.3)\n",
    "np.random.seed(0)\n",
    "indices = np.random.choice(range(len(features)), size =SAMPLE_SIZE, replace =False)"
   ]
  },
  {
   "cell_type": "code",
   "execution_count": 115,
   "metadata": {},
   "outputs": [],
   "source": [
    "projected_features = TSNE(n_components =2, random_state =0).fit_transform(features[indices])"
   ]
  },
  {
   "cell_type": "code",
   "execution_count": 116,
   "metadata": {},
   "outputs": [
    {
     "data": {
      "text/plain": [
       "numpy.ndarray"
      ]
     },
     "execution_count": 116,
     "metadata": {},
     "output_type": "execute_result"
    }
   ],
   "source": [
    "type(projected_features)"
   ]
  },
  {
   "cell_type": "code",
   "execution_count": 117,
   "metadata": {},
   "outputs": [
    {
     "data": {
      "text/plain": [
       "array([[-14.018825  ,  -6.7191367 ],\n",
       "       [ -8.161536  , -25.881407  ],\n",
       "       [-11.838124  , -18.872372  ],\n",
       "       [-10.348611  , -10.918498  ],\n",
       "       [  2.4989889 ,  -8.323587  ],\n",
       "       [ -7.14939   , -22.207441  ],\n",
       "       [ -5.4628415 , -27.831844  ],\n",
       "       [  5.326618  , -25.345383  ],\n",
       "       [ -7.351507  , -17.378439  ],\n",
       "       [-22.47762   , -21.586973  ],\n",
       "       [-19.510622  , -33.20581   ],\n",
       "       [ -3.5415826 , -21.971838  ],\n",
       "       [-34.869495  ,  15.965835  ],\n",
       "       [ -6.7658386 , -34.148117  ],\n",
       "       [ -1.4630113 , -33.612988  ],\n",
       "       [-10.320313  , -10.913226  ],\n",
       "       [  2.1491542 , -22.109478  ],\n",
       "       [  2.3681    , -30.179533  ],\n",
       "       [ -5.835384  , -23.15683   ],\n",
       "       [-15.154101  ,  -8.540079  ],\n",
       "       [-12.362304  ,  -8.5292015 ],\n",
       "       [-18.715155  , -32.488403  ],\n",
       "       [ -5.759253  , -23.57361   ],\n",
       "       [-12.704099  , -21.748663  ],\n",
       "       [-13.8047905 , -21.13625   ],\n",
       "       [-11.516552  , -26.683485  ],\n",
       "       [-21.44197   , -26.66838   ],\n",
       "       [-14.065805  , -16.006687  ],\n",
       "       [-13.68066   , -26.68552   ],\n",
       "       [-12.72372   , -10.685605  ],\n",
       "       [-15.336848  , -14.747181  ],\n",
       "       [ -3.286772  , -10.492132  ],\n",
       "       [-13.8474455 ,  -8.111707  ],\n",
       "       [-10.937543  , -24.953403  ],\n",
       "       [ -7.351317  , -17.378395  ],\n",
       "       [  4.762666  , -27.080975  ],\n",
       "       [ -6.683456  , -34.150894  ],\n",
       "       [-13.04899   , -26.502325  ],\n",
       "       [-19.81828   , -33.45289   ],\n",
       "       [  4.47117   , -27.513714  ],\n",
       "       [ -8.814085  , -25.20884   ],\n",
       "       [-22.648241  , -26.990871  ],\n",
       "       [-16.860197  , -18.813759  ],\n",
       "       [-10.54002   , -15.488236  ],\n",
       "       [-21.78138   , -11.619914  ],\n",
       "       [-17.17082   , -21.673534  ],\n",
       "       [  5.591983  , -28.508783  ],\n",
       "       [ -2.302309  , -17.107841  ],\n",
       "       [ -9.752398  , -30.492685  ],\n",
       "       [ -1.3358377 , -28.15559   ],\n",
       "       [-12.279617  , -25.246563  ],\n",
       "       [ -6.479123  , -10.984344  ],\n",
       "       [-18.356855  , -21.600132  ],\n",
       "       [-11.967269  , -11.91755   ],\n",
       "       [ -5.9950023 , -21.511435  ],\n",
       "       [-11.676245  , -18.866465  ],\n",
       "       [-15.954939  , -13.749564  ],\n",
       "       [ -0.5857223 , -23.631107  ],\n",
       "       [-10.5377655 , -15.488204  ],\n",
       "       [  6.751815  , -24.349033  ],\n",
       "       [ -9.723477  , -19.558031  ],\n",
       "       [ -1.9999661 , -20.455423  ],\n",
       "       [-12.071512  ,  -9.6228485 ],\n",
       "       [-16.002962  ,  -8.578321  ],\n",
       "       [ -1.5115414 , -32.259613  ],\n",
       "       [-10.027722  , -30.873526  ],\n",
       "       [  4.3906183 , -23.77688   ],\n",
       "       [  0.864624  , -21.54441   ],\n",
       "       [  2.7007337 , -24.274603  ],\n",
       "       [  2.4780967 , -30.360909  ],\n",
       "       [-16.002417  , -18.198343  ],\n",
       "       [  2.7297146 , -26.542582  ],\n",
       "       [ -5.462841  , -27.831844  ],\n",
       "       [ -5.0456343 , -19.361248  ],\n",
       "       [  7.7720547 , -23.481956  ],\n",
       "       [ -1.4780452 , -32.20789   ],\n",
       "       [ -4.622545  , -15.07214   ],\n",
       "       [ -9.67926   , -22.76975   ],\n",
       "       [-17.376741  , -16.113981  ],\n",
       "       [ -3.8736625 , -13.915371  ],\n",
       "       [-10.14965   , -29.52548   ],\n",
       "       [ -1.652114  , -24.583326  ],\n",
       "       [ -6.320767  , -26.309166  ],\n",
       "       [ -2.0633664 , -17.158848  ],\n",
       "       [ -2.3858    , -12.364372  ],\n",
       "       [-32.089584  ,  -0.46919593],\n",
       "       [-10.682196  , -21.557272  ],\n",
       "       [-13.604751  , -23.927984  ],\n",
       "       [-34.868206  ,  15.965825  ],\n",
       "       [-17.409544  , -13.933685  ],\n",
       "       [ -8.042115  , -30.525928  ],\n",
       "       [ -7.323568  , -23.456848  ],\n",
       "       [ -9.722145  , -26.966824  ],\n",
       "       [-10.496029  , -26.171055  ],\n",
       "       [ -0.42061913, -17.964884  ],\n",
       "       [-11.739234  , -21.668604  ],\n",
       "       [  2.7137315 , -26.542738  ],\n",
       "       [-16.198017  , -15.569378  ],\n",
       "       [ -6.96931   , -13.969227  ],\n",
       "       [ -0.10686076, -22.162426  ],\n",
       "       [-12.605701  , -22.689156  ],\n",
       "       [-15.98656   , -17.022022  ],\n",
       "       [ -4.056156  , -25.997726  ],\n",
       "       [-11.635806  , -27.89142   ],\n",
       "       [ -3.221224  , -10.538408  ],\n",
       "       [-13.963326  , -28.275164  ],\n",
       "       [ -4.6979585 , -19.097563  ],\n",
       "       [ -5.277418  , -22.550602  ],\n",
       "       [-17.079412  ,  -8.505428  ],\n",
       "       [ -1.3357711 , -28.15492   ],\n",
       "       [ -3.8686786 , -13.905992  ],\n",
       "       [-27.035639  ,  -5.405658  ],\n",
       "       [-16.42172   , -14.505881  ],\n",
       "       [ -2.985333  , -21.486338  ],\n",
       "       [-24.7293    , -20.298649  ],\n",
       "       [ -6.459477  , -10.98889   ],\n",
       "       [ 23.926483  ,  -9.981946  ]], dtype=float32)"
      ]
     },
     "execution_count": 117,
     "metadata": {},
     "output_type": "execute_result"
    }
   ],
   "source": [
    "my_id =0\n",
    "projected_features[(labels[indices] == my_id).values]"
   ]
  },
  {
   "cell_type": "code",
   "execution_count": 118,
   "metadata": {},
   "outputs": [
    {
     "data": {
      "text/plain": [
       "<matplotlib.legend.Legend at 0x1abe0afe1d0>"
      ]
     },
     "execution_count": 118,
     "metadata": {},
     "output_type": "execute_result"
    },
    {
     "data": {
      "image/png": "[encoded data removed]",
      "text/plain": [
       "<matplotlib.figure.Figure at 0x1abe19cecf8>"
      ]
     },
     "metadata": {},
     "output_type": "display_data"
    }
   ],
   "source": [
    "colors = ['pink', 'green', 'midnightblue', 'orange', 'darkgrey']\n",
    "\n",
    "# Find points belonging to each category and plot them\n",
    "for category, category_id in sorted(category_to_id.items()):\n",
    "    points = projected_features[(labels[indices] == category_id).values]\n",
    "    plt.scatter(points[:, 0], points[:, 1], s=30, c=colors[category_id], label=category)\n",
    "plt.title(\"tf-idf feature vector for each article, projected on 2 dimensions.\",\n",
    "          fontdict=dict(fontsize=15))\n",
    "plt.legend()"
   ]
  },
  {
   "cell_type": "code",
   "execution_count": 121,
   "metadata": {},
   "outputs": [],
   "source": [
    "from sklearn.linear_model import LogisticRegression \n",
    "from sklearn.naive_bayes import MultinomialNB\n",
    "from sklearn.ensemble import RandomForestClassifier\n",
    "\n",
    "from sklearn.model_selection import cross_val_score\n",
    "\n",
    "models = [RandomForestClassifier(n_estimators =200, max_depth =3, \n",
    "                                random_state= 42),\n",
    "         MultinomialNB(),\n",
    "         LogisticRegression(random_state=42),]"
   ]
  },
  {
   "cell_type": "code",
   "execution_count": 125,
   "metadata": {},
   "outputs": [],
   "source": [
    "CV =5\n",
    "\n",
    "cv_df = pd.DataFrame(index =range(cv*len(models)))\n",
    "entries =[]"
   ]
  },
  {
   "cell_type": "code",
   "execution_count": 129,
   "metadata": {},
   "outputs": [],
   "source": [
    "for model in models:\n",
    "    model_name = model.__class__.__name__\n",
    "    \n",
    "    accuracies = cross_val_score(model, features, labels, \n",
    "                                 scoring ='accuracy',cv=CV)\n",
    "    \n",
    "    for fold_idx, accuracy in enumerate(accuracies):\n",
    "        entries.append((model_name, fold_idx, accuracy))"
   ]
  },
  {
   "cell_type": "code",
   "execution_count": 134,
   "metadata": {},
   "outputs": [],
   "source": [
    "cv_df =pd.DataFrame(entries, columns=['model_name', 'fold_idx', 'accuracy'])"
   ]
  },
  {
   "cell_type": "code",
   "execution_count": 135,
   "metadata": {},
   "outputs": [
    {
     "data": {
      "text/html": [
       "<div>\n",
       "<style>\n",
       "    .dataframe thead tr:only-child th {\n",
       "        text-align: right;\n",
       "    }\n",
       "\n",
       "    .dataframe thead th {\n",
       "        text-align: left;\n",
       "    }\n",
       "\n",
       "    .dataframe tbody tr th {\n",
       "        vertical-align: top;\n",
       "    }\n",
       "</style>\n",
       "<table border=\"1\" class=\"dataframe\">\n",
       "  <thead>\n",
       "    <tr style=\"text-align: right;\">\n",
       "      <th></th>\n",
       "      <th>model_name</th>\n",
       "      <th>fold_idx</th>\n",
       "      <th>accuracy</th>\n",
       "    </tr>\n",
       "  </thead>\n",
       "  <tbody>\n",
       "    <tr>\n",
       "      <th>0</th>\n",
       "      <td>RandomForestClassifier</td>\n",
       "      <td>0</td>\n",
       "      <td>0.812500</td>\n",
       "    </tr>\n",
       "    <tr>\n",
       "      <th>1</th>\n",
       "      <td>RandomForestClassifier</td>\n",
       "      <td>1</td>\n",
       "      <td>0.844944</td>\n",
       "    </tr>\n",
       "    <tr>\n",
       "      <th>2</th>\n",
       "      <td>RandomForestClassifier</td>\n",
       "      <td>2</td>\n",
       "      <td>0.828829</td>\n",
       "    </tr>\n",
       "    <tr>\n",
       "      <th>3</th>\n",
       "      <td>RandomForestClassifier</td>\n",
       "      <td>3</td>\n",
       "      <td>0.817568</td>\n",
       "    </tr>\n",
       "    <tr>\n",
       "      <th>4</th>\n",
       "      <td>RandomForestClassifier</td>\n",
       "      <td>4</td>\n",
       "      <td>0.822072</td>\n",
       "    </tr>\n",
       "    <tr>\n",
       "      <th>5</th>\n",
       "      <td>MultinomialNB</td>\n",
       "      <td>0</td>\n",
       "      <td>0.970982</td>\n",
       "    </tr>\n",
       "    <tr>\n",
       "      <th>6</th>\n",
       "      <td>MultinomialNB</td>\n",
       "      <td>1</td>\n",
       "      <td>0.977528</td>\n",
       "    </tr>\n",
       "    <tr>\n",
       "      <th>7</th>\n",
       "      <td>MultinomialNB</td>\n",
       "      <td>2</td>\n",
       "      <td>0.979730</td>\n",
       "    </tr>\n",
       "    <tr>\n",
       "      <th>8</th>\n",
       "      <td>MultinomialNB</td>\n",
       "      <td>3</td>\n",
       "      <td>0.952703</td>\n",
       "    </tr>\n",
       "    <tr>\n",
       "      <th>9</th>\n",
       "      <td>MultinomialNB</td>\n",
       "      <td>4</td>\n",
       "      <td>0.972973</td>\n",
       "    </tr>\n",
       "    <tr>\n",
       "      <th>10</th>\n",
       "      <td>LogisticRegression</td>\n",
       "      <td>0</td>\n",
       "      <td>0.975446</td>\n",
       "    </tr>\n",
       "    <tr>\n",
       "      <th>11</th>\n",
       "      <td>LogisticRegression</td>\n",
       "      <td>1</td>\n",
       "      <td>0.982022</td>\n",
       "    </tr>\n",
       "    <tr>\n",
       "      <th>12</th>\n",
       "      <td>LogisticRegression</td>\n",
       "      <td>2</td>\n",
       "      <td>0.986486</td>\n",
       "    </tr>\n",
       "    <tr>\n",
       "      <th>13</th>\n",
       "      <td>LogisticRegression</td>\n",
       "      <td>3</td>\n",
       "      <td>0.970721</td>\n",
       "    </tr>\n",
       "    <tr>\n",
       "      <th>14</th>\n",
       "      <td>LogisticRegression</td>\n",
       "      <td>4</td>\n",
       "      <td>0.984234</td>\n",
       "    </tr>\n",
       "  </tbody>\n",
       "</table>\n",
       "</div>"
      ],
      "text/plain": [
       "                model_name  fold_idx  accuracy\n",
       "0   RandomForestClassifier         0  0.812500\n",
       "1   RandomForestClassifier         1  0.844944\n",
       "2   RandomForestClassifier         2  0.828829\n",
       "3   RandomForestClassifier         3  0.817568\n",
       "4   RandomForestClassifier         4  0.822072\n",
       "5            MultinomialNB         0  0.970982\n",
       "6            MultinomialNB         1  0.977528\n",
       "7            MultinomialNB         2  0.979730\n",
       "8            MultinomialNB         3  0.952703\n",
       "9            MultinomialNB         4  0.972973\n",
       "10      LogisticRegression         0  0.975446\n",
       "11      LogisticRegression         1  0.982022\n",
       "12      LogisticRegression         2  0.986486\n",
       "13      LogisticRegression         3  0.970721\n",
       "14      LogisticRegression         4  0.984234"
      ]
     },
     "execution_count": 135,
     "metadata": {},
     "output_type": "execute_result"
    }
   ],
   "source": [
    "cv_df"
   ]
  },
  {
   "cell_type": "code",
   "execution_count": 139,
   "metadata": {},
   "outputs": [
    {
     "ename": "AttributeError",
     "evalue": "'str' object has no attribute 'get'",
     "output_type": "error",
     "traceback": [
      "\u001b[1;31m---------------------------------------------------------------------------\u001b[0m",
      "\u001b[1;31mAttributeError\u001b[0m                            Traceback (most recent call last)",
      "\u001b[1;32m<ipython-input-139-f9c6c8d282bb>\u001b[0m in \u001b[0;36m<module>\u001b[1;34m()\u001b[0m\n\u001b[0;32m      3\u001b[0m \u001b[1;31m#sns.boxplot(x='model_name', y ='accuracy', data ='cv_df')\u001b[0m\u001b[1;33m\u001b[0m\u001b[1;33m\u001b[0m\u001b[0m\n\u001b[0;32m      4\u001b[0m sns.stripplot(x='model_name', y = 'accuracy', data ='cv_df',\n\u001b[1;32m----> 5\u001b[1;33m             size =8, jitter=True, edgecolor =\"blue\", linewidth =2)\n\u001b[0m",
      "\u001b[1;32mC:\\Anaconda\\lib\\site-packages\\seaborn\\categorical.py\u001b[0m in \u001b[0;36mstripplot\u001b[1;34m(x, y, hue, data, order, hue_order, jitter, dodge, orient, color, palette, size, edgecolor, linewidth, ax, **kwargs)\u001b[0m\n\u001b[0;32m   2568\u001b[0m \u001b[1;33m\u001b[0m\u001b[0m\n\u001b[0;32m   2569\u001b[0m     plotter = _StripPlotter(x, y, hue, data, order, hue_order,\n\u001b[1;32m-> 2570\u001b[1;33m                             jitter, dodge, orient, color, palette)\n\u001b[0m\u001b[0;32m   2571\u001b[0m     \u001b[1;32mif\u001b[0m \u001b[0max\u001b[0m \u001b[1;32mis\u001b[0m \u001b[1;32mNone\u001b[0m\u001b[1;33m:\u001b[0m\u001b[1;33m\u001b[0m\u001b[0m\n\u001b[0;32m   2572\u001b[0m         \u001b[0max\u001b[0m \u001b[1;33m=\u001b[0m \u001b[0mplt\u001b[0m\u001b[1;33m.\u001b[0m\u001b[0mgca\u001b[0m\u001b[1;33m(\u001b[0m\u001b[1;33m)\u001b[0m\u001b[1;33m\u001b[0m\u001b[0m\n",
      "\u001b[1;32mC:\\Anaconda\\lib\\site-packages\\seaborn\\categorical.py\u001b[0m in \u001b[0;36m__init__\u001b[1;34m(self, x, y, hue, data, order, hue_order, jitter, dodge, orient, color, palette)\u001b[0m\n\u001b[0;32m   1120\u001b[0m                  jitter, dodge, orient, color, palette):\n\u001b[0;32m   1121\u001b[0m         \u001b[1;34m\"\"\"Initialize the plotter.\"\"\"\u001b[0m\u001b[1;33m\u001b[0m\u001b[0m\n\u001b[1;32m-> 1122\u001b[1;33m         \u001b[0mself\u001b[0m\u001b[1;33m.\u001b[0m\u001b[0mestablish_variables\u001b[0m\u001b[1;33m(\u001b[0m\u001b[0mx\u001b[0m\u001b[1;33m,\u001b[0m \u001b[0my\u001b[0m\u001b[1;33m,\u001b[0m \u001b[0mhue\u001b[0m\u001b[1;33m,\u001b[0m \u001b[0mdata\u001b[0m\u001b[1;33m,\u001b[0m \u001b[0morient\u001b[0m\u001b[1;33m,\u001b[0m \u001b[0morder\u001b[0m\u001b[1;33m,\u001b[0m \u001b[0mhue_order\u001b[0m\u001b[1;33m)\u001b[0m\u001b[1;33m\u001b[0m\u001b[0m\n\u001b[0m\u001b[0;32m   1123\u001b[0m         \u001b[0mself\u001b[0m\u001b[1;33m.\u001b[0m\u001b[0mestablish_colors\u001b[0m\u001b[1;33m(\u001b[0m\u001b[0mcolor\u001b[0m\u001b[1;33m,\u001b[0m \u001b[0mpalette\u001b[0m\u001b[1;33m,\u001b[0m \u001b[1;36m1\u001b[0m\u001b[1;33m)\u001b[0m\u001b[1;33m\u001b[0m\u001b[0m\n\u001b[0;32m   1124\u001b[0m \u001b[1;33m\u001b[0m\u001b[0m\n",
      "\u001b[1;32mC:\\Anaconda\\lib\\site-packages\\seaborn\\categorical.py\u001b[0m in \u001b[0;36mestablish_variables\u001b[1;34m(self, x, y, hue, data, orient, order, hue_order, units)\u001b[0m\n\u001b[0;32m    140\u001b[0m             \u001b[1;31m# See if we need to get variables from `data`\u001b[0m\u001b[1;33m\u001b[0m\u001b[1;33m\u001b[0m\u001b[0m\n\u001b[0;32m    141\u001b[0m             \u001b[1;32mif\u001b[0m \u001b[0mdata\u001b[0m \u001b[1;32mis\u001b[0m \u001b[1;32mnot\u001b[0m \u001b[1;32mNone\u001b[0m\u001b[1;33m:\u001b[0m\u001b[1;33m\u001b[0m\u001b[0m\n\u001b[1;32m--> 142\u001b[1;33m                 \u001b[0mx\u001b[0m \u001b[1;33m=\u001b[0m \u001b[0mdata\u001b[0m\u001b[1;33m.\u001b[0m\u001b[0mget\u001b[0m\u001b[1;33m(\u001b[0m\u001b[0mx\u001b[0m\u001b[1;33m,\u001b[0m \u001b[0mx\u001b[0m\u001b[1;33m)\u001b[0m\u001b[1;33m\u001b[0m\u001b[0m\n\u001b[0m\u001b[0;32m    143\u001b[0m                 \u001b[0my\u001b[0m \u001b[1;33m=\u001b[0m \u001b[0mdata\u001b[0m\u001b[1;33m.\u001b[0m\u001b[0mget\u001b[0m\u001b[1;33m(\u001b[0m\u001b[0my\u001b[0m\u001b[1;33m,\u001b[0m \u001b[0my\u001b[0m\u001b[1;33m)\u001b[0m\u001b[1;33m\u001b[0m\u001b[0m\n\u001b[0;32m    144\u001b[0m                 \u001b[0mhue\u001b[0m \u001b[1;33m=\u001b[0m \u001b[0mdata\u001b[0m\u001b[1;33m.\u001b[0m\u001b[0mget\u001b[0m\u001b[1;33m(\u001b[0m\u001b[0mhue\u001b[0m\u001b[1;33m,\u001b[0m \u001b[0mhue\u001b[0m\u001b[1;33m)\u001b[0m\u001b[1;33m\u001b[0m\u001b[0m\n",
      "\u001b[1;31mAttributeError\u001b[0m: 'str' object has no attribute 'get'"
     ]
    }
   ],
   "source": [
    "import seaborn as sns\n",
    "\n",
    "#sns.boxplot(x='model_name', y ='accuracy', data ='cv_df')\n",
    "sns.stripplot(x='model_name', y = 'accuracy', data ='cv_df',\n",
    "            size =8, jitter=True, edgecolor =\"blue\", linewidth =2)"
   ]
  },
  {
   "cell_type": "code",
   "execution_count": 142,
   "metadata": {},
   "outputs": [
    {
     "data": {
      "text/plain": [
       "model_name\n",
       "LogisticRegression        0.979782\n",
       "MultinomialNB             0.970783\n",
       "RandomForestClassifier    0.825182\n",
       "Name: accuracy, dtype: float64"
      ]
     },
     "execution_count": 142,
     "metadata": {},
     "output_type": "execute_result"
    }
   ],
   "source": [
    "cv_df.groupby('model_name').accuracy.mean()"
   ]
  },
  {
   "cell_type": "code",
   "execution_count": 144,
   "metadata": {
    "collapsed": true
   },
   "outputs": [],
   "source": [
    "from sklearn.model_selection import train_test_split\n",
    "model = LogisticRegression()\n",
    "X_train, X_test, y_train,y_test, indices_train, indices_test = train_test_split(features,\n",
    "                                                   labels, df.index, test_size =0.33, random_state =42)"
   ]
  },
  {
   "cell_type": "code",
   "execution_count": 151,
   "metadata": {},
   "outputs": [],
   "source": [
    "model.fit(X_train, y_train)\n",
    "\n",
    "y_pred = model.predict(X_test)\n",
    "y_pred_proba = model.predict_proba(X_test)"
   ]
  },
  {
   "cell_type": "code",
   "execution_count": 152,
   "metadata": {},
   "outputs": [
    {
     "data": {
      "text/plain": [
       "array([[0.04629375, 0.08382582, 0.06803685, 0.05191286, 0.74993071],\n",
       "       [0.09807159, 0.65293625, 0.08773593, 0.07677152, 0.08448471],\n",
       "       [0.05019315, 0.05835423, 0.08101308, 0.76736191, 0.04307762],\n",
       "       ...,\n",
       "       [0.09617858, 0.09654262, 0.61298588, 0.09575343, 0.09853949],\n",
       "       [0.03321871, 0.03757005, 0.0519669 , 0.04708277, 0.83016157],\n",
       "       [0.067189  , 0.06134381, 0.72982655, 0.08054024, 0.06110041]])"
      ]
     },
     "execution_count": 152,
     "metadata": {},
     "output_type": "execute_result"
    }
   ],
   "source": [
    "y_pred_proba"
   ]
  },
  {
   "cell_type": "code",
   "execution_count": 154,
   "metadata": {},
   "outputs": [
    {
     "name": "stdout",
     "output_type": "stream",
     "text": [
      "[[137   3   2   0   0]\n",
      " [  0 175   1   0   5]\n",
      " [  0   0 157   0   1]\n",
      " [  1   2   1 123   2]\n",
      " [  2   3   0   0 120]]\n"
     ]
    }
   ],
   "source": [
    "from sklearn.metrics import confusion_matrix\n",
    "import seaborn as sns\n",
    "\n",
    "conf_mat = confusion_matrix(y_test, y_pred)\n",
    "print(conf_mat)\n",
    "#sns.heatmap(conf_mat, annot=True, fmt='d',\n",
    "#            xticklabels=category_id_df.Category.values, yticklabels=category_id_df.Category.values)\n",
    "#plt.ylabel('Actual')\n",
    "#plt.xlabel('Predicted')"
   ]
  },
  {
   "cell_type": "code",
   "execution_count": null,
   "metadata": {
    "collapsed": true
   },
   "outputs": [],
   "source": []
  }
 ],
 "metadata": {
  "kernelspec": {
   "display_name": "Python 3",
   "language": "python",
   "name": "python3"
  },
  "language_info": {
   "codemirror_mode": {
    "name": "ipython",
    "version": 3
   },
   "file_extension": ".py",
   "mimetype": "text/x-python",
   "name": "python",
   "nbconvert_exporter": "python",
   "pygments_lexer": "ipython3",
   "version": "3.6.3"
  }
 },
 "nbformat": 4,
 "nbformat_minor": 2
}
